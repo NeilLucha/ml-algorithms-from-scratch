{
 "cells": [
  {
   "cell_type": "markdown",
   "id": "e5c467e9",
   "metadata": {},
   "source": [
    "# Linear Regression From Scratch"
   ]
  },
  {
   "cell_type": "markdown",
   "id": "f919e5a0",
   "metadata": {},
   "source": [
    "Implemented Linear Regression using gradient descent from scratch and tested on a dataset of hours studied vs student scores."
   ]
  },
  {
   "cell_type": "markdown",
   "id": "25b9f4ae",
   "metadata": {},
   "source": [
    "dataset obtained from: https://www.kaggle.com/datasets/himanshunakrani/student-study-hours"
   ]
  },
  {
   "cell_type": "markdown",
   "id": "bfb20eb7",
   "metadata": {},
   "source": [
    "## What is Linear Regression?\n",
    "\n",
    "Linear Regression is a type of supervised ML algorithm that models the relationship between the independent variables and the dependent variable by mapping data points to a linear function. \n",
    "\n",
    "This model essentially predicts y = b_1 * x + b_0\n",
    "\n",
    "Where:\n",
    "- ( b_1 ) is the slope (weight)\n",
    "- ( b_0 ) is the intercept (bias)\n",
    "\n",
    "We minimize the **Mean Squared Error (MSE)** between predicted and actual values using **gradient descent** (instead of using the normal Equation)."
   ]
  },
  {
   "cell_type": "markdown",
   "id": "7c4b3e9f",
   "metadata": {},
   "source": [
    "# Imports"
   ]
  },
  {
   "cell_type": "markdown",
   "id": "9efc10e5",
   "metadata": {},
   "source": [
    "### Libraries"
   ]
  },
  {
   "cell_type": "code",
   "execution_count": 9,
   "id": "2f1a6664",
   "metadata": {},
   "outputs": [
    {
     "data": {
      "text/plain": [
       "<module 'tools.preprocessing' from '/home/neillucha/ml-algorithms-from-scratch/tools/preprocessing.py'>"
      ]
     },
     "execution_count": 9,
     "metadata": {},
     "output_type": "execute_result"
    }
   ],
   "source": [
    "import sys\n",
    "import os\n",
    "\n",
    "import tools.preprocessing\n",
    "sys.path.append(os.path.abspath(\"..\"))\n",
    "\n",
    "import importlib\n",
    "import tools.functions\n",
    "importlib.reload(tools.preprocessing)"
   ]
  },
  {
   "cell_type": "code",
   "execution_count": 10,
   "id": "f9410239",
   "metadata": {},
   "outputs": [],
   "source": [
    "import pandas as pd\n",
    "import matplotlib.pyplot as plt\n",
    "import numpy as np\n",
    "from algorithms.linear_regression import LinearRegression \n",
    "from tools.preprocessing import standardize"
   ]
  },
  {
   "cell_type": "markdown",
   "id": "5e601e9f",
   "metadata": {},
   "source": [
    "### Dataset"
   ]
  },
  {
   "cell_type": "code",
   "execution_count": 11,
   "id": "084a2b19",
   "metadata": {},
   "outputs": [
    {
     "data": {
      "text/html": [
       "<div>\n",
       "<style scoped>\n",
       "    .dataframe tbody tr th:only-of-type {\n",
       "        vertical-align: middle;\n",
       "    }\n",
       "\n",
       "    .dataframe tbody tr th {\n",
       "        vertical-align: top;\n",
       "    }\n",
       "\n",
       "    .dataframe thead th {\n",
       "        text-align: right;\n",
       "    }\n",
       "</style>\n",
       "<table border=\"1\" class=\"dataframe\">\n",
       "  <thead>\n",
       "    <tr style=\"text-align: right;\">\n",
       "      <th></th>\n",
       "      <th>Hours</th>\n",
       "      <th>Scores</th>\n",
       "    </tr>\n",
       "  </thead>\n",
       "  <tbody>\n",
       "    <tr>\n",
       "      <th>0</th>\n",
       "      <td>2.5</td>\n",
       "      <td>21</td>\n",
       "    </tr>\n",
       "    <tr>\n",
       "      <th>1</th>\n",
       "      <td>5.1</td>\n",
       "      <td>47</td>\n",
       "    </tr>\n",
       "    <tr>\n",
       "      <th>2</th>\n",
       "      <td>3.2</td>\n",
       "      <td>27</td>\n",
       "    </tr>\n",
       "    <tr>\n",
       "      <th>3</th>\n",
       "      <td>8.5</td>\n",
       "      <td>75</td>\n",
       "    </tr>\n",
       "    <tr>\n",
       "      <th>4</th>\n",
       "      <td>3.5</td>\n",
       "      <td>30</td>\n",
       "    </tr>\n",
       "  </tbody>\n",
       "</table>\n",
       "</div>"
      ],
      "text/plain": [
       "   Hours  Scores\n",
       "0    2.5      21\n",
       "1    5.1      47\n",
       "2    3.2      27\n",
       "3    8.5      75\n",
       "4    3.5      30"
      ]
     },
     "execution_count": 11,
     "metadata": {},
     "output_type": "execute_result"
    }
   ],
   "source": [
    "df = pd.read_csv('../data/score_updated.csv')\n",
    "df.head(5)"
   ]
  },
  {
   "cell_type": "markdown",
   "id": "c6b5423e",
   "metadata": {},
   "source": [
    "# Preprocessing"
   ]
  },
  {
   "cell_type": "code",
   "execution_count": 12,
   "id": "95bd32df",
   "metadata": {},
   "outputs": [],
   "source": [
    "scores = np.array(df.Scores)\n",
    "normalized_hours = standardize(np.array(df.Hours))"
   ]
  },
  {
   "cell_type": "markdown",
   "id": "6181e15e",
   "metadata": {},
   "source": [
    "# Creating and Training the Linear Regressor"
   ]
  },
  {
   "cell_type": "code",
   "execution_count": 13,
   "id": "a75ed926",
   "metadata": {},
   "outputs": [
    {
     "name": "stdout",
     "output_type": "stream",
     "text": [
      "Epoch 1, \t Loss: 2268.2211425652904\n",
      "Epoch 2, \t Loss: 1455.8160071404093\n",
      "Epoch 3, \t Loss: 935.8767204684855\n",
      "Epoch 4, \t Loss: 603.1155769984541\n",
      "Epoch 5, \t Loss: 390.14844517763396\n",
      "Epoch 6, \t Loss: 253.84948081230928\n",
      "Epoch 7, \t Loss: 166.61814361850136\n",
      "Epoch 8, \t Loss: 110.79008781446426\n",
      "Epoch 9, \t Loss: 75.0601320998805\n",
      "Epoch 10, \t Loss: 52.19296044254687\n",
      "Epoch 11, \t Loss: 37.5579705818534\n",
      "Epoch 12, \t Loss: 28.191577071009544\n",
      "Epoch 13, \t Loss: 22.19708522406951\n",
      "Epoch 14, \t Loss: 18.36061044202787\n",
      "Epoch 15, \t Loss: 15.905266581521216\n",
      "Epoch 16, \t Loss: 14.33384651079698\n",
      "Epoch 17, \t Loss: 13.32813766553346\n",
      "Epoch 18, \t Loss: 12.684484004564794\n",
      "Epoch 19, \t Loss: 12.27254566154486\n",
      "Epoch 20, \t Loss: 12.0089051220121\n",
      "Epoch 21, \t Loss: 11.840175176711137\n",
      "Epoch 22, \t Loss: 11.73218801171852\n",
      "Epoch 23, \t Loss: 11.663076226123247\n",
      "Epoch 24, \t Loss: 11.61884468334227\n",
      "Epoch 25, \t Loss: 11.590536495962445\n",
      "Epoch 26, \t Loss: 11.572419256039355\n",
      "Epoch 27, \t Loss: 11.560824222488577\n",
      "Epoch 28, \t Loss: 11.553403401016078\n",
      "Epoch 29, \t Loss: 11.548654075273681\n",
      "Epoch 30, \t Loss: 11.545614506798545\n",
      "Epoch 31, \t Loss: 11.54366918297446\n",
      "Epoch 32, \t Loss: 11.54242417572704\n",
      "Epoch 33, \t Loss: 11.541627371088696\n",
      "Epoch 34, \t Loss: 11.541117416120166\n",
      "Epoch 35, \t Loss: 11.540791044940294\n",
      "Epoch 36, \t Loss: 11.540582167385173\n",
      "Epoch 37, \t Loss: 11.5404484857499\n",
      "Epoch 38, \t Loss: 11.54036292950333\n",
      "Epoch 39, \t Loss: 11.540308173505528\n",
      "Epoch 40, \t Loss: 11.540273129666923\n",
      "Epoch 41, \t Loss: 11.54025070161022\n",
      "Epoch 42, \t Loss: 11.540236347653936\n",
      "Epoch 43, \t Loss: 11.54022716112191\n",
      "Epoch 44, \t Loss: 11.540221281741411\n",
      "Epoch 45, \t Loss: 11.540217518937894\n",
      "Epoch 46, \t Loss: 11.540215110743645\n",
      "Epoch 47, \t Loss: 11.540213569499324\n",
      "Epoch 48, \t Loss: 11.540212583102957\n",
      "Epoch 49, \t Loss: 11.540211951809283\n",
      "Epoch 50, \t Loss: 11.54021154778133\n",
      "Epoch 51, \t Loss: 11.540211289203441\n",
      "Epoch 52, \t Loss: 11.54021112371359\n",
      "Epoch 53, \t Loss: 11.540211017800095\n",
      "Epoch 54, \t Loss: 11.54021095001545\n",
      "Epoch 55, \t Loss: 11.540210906633282\n",
      "Epoch 56, \t Loss: 11.54021087886869\n",
      "Epoch 57, \t Loss: 11.540210861099354\n",
      "Epoch 58, \t Loss: 11.54021084972697\n",
      "Epoch 59, \t Loss: 11.540210842448658\n",
      "Epoch 60, \t Loss: 11.540210837790534\n",
      "Epoch 61, \t Loss: 11.540210834809335\n",
      "Epoch 62, \t Loss: 11.540210832901364\n",
      "Epoch 63, \t Loss: 11.540210831680263\n",
      "Epoch 64, \t Loss: 11.54021083089876\n",
      "Epoch 65, \t Loss: 11.540210830398594\n",
      "Epoch 66, \t Loss: 11.540210830078493\n",
      "Epoch 67, \t Loss: 11.540210829873628\n",
      "Epoch 68, \t Loss: 11.540210829742513\n",
      "Epoch 69, \t Loss: 11.5402108296586\n",
      "Epoch 70, \t Loss: 11.540210829604893\n",
      "Epoch 71, \t Loss: 11.540210829570526\n",
      "Epoch 72, \t Loss: 11.540210829548522\n",
      "Epoch 73, \t Loss: 11.540210829534447\n",
      "Epoch 74, \t Loss: 11.540210829525437\n",
      "Epoch 75, \t Loss: 11.54021082951967\n",
      "Epoch 76, \t Loss: 11.54021082951598\n",
      "Epoch 77, \t Loss: 11.540210829513619\n",
      "Epoch 78, \t Loss: 11.540210829512105\n",
      "Epoch 79, \t Loss: 11.540210829511137\n",
      "Epoch 80, \t Loss: 11.540210829510519\n",
      "Epoch 81, \t Loss: 11.540210829510121\n",
      "Epoch 82, \t Loss: 11.540210829509874\n",
      "Epoch 83, \t Loss: 11.540210829509709\n",
      "Epoch 84, \t Loss: 11.540210829509604\n",
      "Epoch 85, \t Loss: 11.540210829509535\n",
      "Epoch 86, \t Loss: 11.540210829509492\n",
      "Epoch 87, \t Loss: 11.540210829509471\n",
      "Epoch 88, \t Loss: 11.540210829509453\n",
      "Epoch 89, \t Loss: 11.540210829509443\n",
      "Epoch 90, \t Loss: 11.540210829509435\n",
      "Epoch 91, \t Loss: 11.540210829509428\n",
      "Epoch 92, \t Loss: 11.54021082950942\n",
      "Epoch 93, \t Loss: 11.540210829509425\n",
      "Epoch 94, \t Loss: 11.54021082950942\n",
      "Epoch 95, \t Loss: 11.540210829509425\n",
      "Epoch 96, \t Loss: 11.54021082950942\n",
      "Epoch 97, \t Loss: 11.540210829509421\n",
      "Epoch 98, \t Loss: 11.540210829509418\n",
      "Epoch 99, \t Loss: 11.540210829509421\n",
      "Epoch 100, \t Loss: 11.540210829509421\n"
     ]
    },
    {
     "data": {
      "text/plain": [
       "(np.float64(54.0208333223291), np.float64(24.65387437223107))"
      ]
     },
     "execution_count": 13,
     "metadata": {},
     "output_type": "execute_result"
    }
   ],
   "source": [
    "regressor = LinearRegression()\n",
    "regressor.train(x = normalized_hours, y = scores, learning_rate=0.1, epochs=100, track_loss=1)"
   ]
  },
  {
   "cell_type": "markdown",
   "id": "0dad90c8",
   "metadata": {},
   "source": [
    "# Results"
   ]
  },
  {
   "cell_type": "markdown",
   "id": "039ce84a",
   "metadata": {},
   "source": [
    "### Visualization of Best-Fit Line"
   ]
  },
  {
   "cell_type": "code",
   "execution_count": 14,
   "id": "84e9e02a",
   "metadata": {},
   "outputs": [
    {
     "data": {
      "image/png": "[encoded data removed]",
      "text/plain": [
       "<Figure size 640x480 with 1 Axes>"
      ]
     },
     "metadata": {},
     "output_type": "display_data"
    }
   ],
   "source": [
    "plt.scatter(df.Hours, df.Scores, color = 'blue', label = 'Actual')\n",
    "plt.plot(df.Hours, regressor.predict(normalized_hours), color = 'red', label='Predicted')\n",
    "plt.legend()\n",
    "plt.xlabel('Hours Studied')\n",
    "plt.ylabel('Score')\n",
    "plt.title('Hours Studied v/s Score')\n",
    "plt.show()"
   ]
  },
  {
   "cell_type": "markdown",
   "id": "bd0c0934",
   "metadata": {},
   "source": [
    "### Visualizing the decrease in Loss over Epochs"
   ]
  },
  {
   "cell_type": "code",
   "execution_count": 15,
   "id": "9e21d8ab",
   "metadata": {},
   "outputs": [
    {
     "data": {
      "image/png": "[encoded data removed]",
      "text/plain": [
       "<Figure size 640x480 with 1 Axes>"
      ]
     },
     "metadata": {},
     "output_type": "display_data"
    }
   ],
   "source": [
    "losses = list(regressor.loss_history.values())\n",
    "plt.plot(range(1, len(losses)+1), losses)\n",
    "plt.xlabel(\"Epoch\")\n",
    "plt.ylabel(\"MSE Loss\")\n",
    "plt.title(\"Loss Over Epochs\")\n",
    "plt.grid()\n",
    "plt.show()"
   ]
  },
  {
   "cell_type": "markdown",
   "id": "cd9f7e32",
   "metadata": {},
   "source": [
    "### Final Parameters"
   ]
  },
  {
   "cell_type": "code",
   "execution_count": 16,
   "id": "64506fa4",
   "metadata": {},
   "outputs": [
    {
     "name": "stdout",
     "output_type": "stream",
     "text": [
      "Intercept: 54.0208\n",
      "Slope: 24.6539\n"
     ]
    }
   ],
   "source": [
    "print(f'Intercept: {regressor.b0:0.4f}')\n",
    "print(f'Slope: {regressor.b1:0.4f}')"
   ]
  },
  {
   "cell_type": "code",
   "execution_count": null,
   "id": "33c92f34",
   "metadata": {},
   "outputs": [],
   "source": []
  }
 ],
 "metadata": {
  "kernelspec": {
   "display_name": "venv",
   "language": "python",
   "name": "python3"
  },
  "language_info": {
   "codemirror_mode": {
    "name": "ipython",
    "version": 3
   },
   "file_extension": ".py",
   "mimetype": "text/x-python",
   "name": "python",
   "nbconvert_exporter": "python",
   "pygments_lexer": "ipython3",
   "version": "3.12.3"
  }
 },
 "nbformat": 4,
 "nbformat_minor": 5
}
