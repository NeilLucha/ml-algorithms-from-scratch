{
 "cells": [
  {
   "cell_type": "markdown",
   "id": "b7ad036d",
   "metadata": {},
   "source": [
    "# Imports"
   ]
  },
  {
   "cell_type": "markdown",
   "id": "dccd315a",
   "metadata": {},
   "source": [
    "### Libraries"
   ]
  },
  {
   "cell_type": "code",
   "execution_count": 171,
   "id": "54de4810",
   "metadata": {},
   "outputs": [],
   "source": [
    "import sys\n",
    "import os\n",
    "sys.path.append(os.path.abspath(\"..\"))"
   ]
  },
  {
   "cell_type": "code",
   "execution_count": 172,
   "id": "d394b7d9",
   "metadata": {},
   "outputs": [
    {
     "data": {
      "text/plain": [
       "<module 'tools.metrics' from '/home/neillucha/ml-algorithms-from-scratch/tools/metrics.py'>"
      ]
     },
     "execution_count": 172,
     "metadata": {},
     "output_type": "execute_result"
    }
   ],
   "source": [
    "import importlib\n",
    "\n",
    "importlib.reload(tools.metrics)"
   ]
  },
  {
   "cell_type": "code",
   "execution_count": 173,
   "id": "d02e8fc5",
   "metadata": {},
   "outputs": [],
   "source": [
    "import numpy as np\n",
    "import pandas as pd\n",
    "import seaborn as sns\n",
    "import matplotlib.pyplot as plt\n",
    "from algorithms.logistic_regression import LogisticRegression\n",
    "from tools.preprocessing import train_test_split, standardize\n",
    "from tools.metrics import accuracy_score, binary_confusion_matrix"
   ]
  },
  {
   "cell_type": "markdown",
   "id": "c5c3e733",
   "metadata": {},
   "source": [
    "### Dataset"
   ]
  },
  {
   "cell_type": "code",
   "execution_count": 174,
   "id": "cf5546e1",
   "metadata": {},
   "outputs": [
    {
     "data": {
      "text/html": [
       "<div>\n",
       "<style scoped>\n",
       "    .dataframe tbody tr th:only-of-type {\n",
       "        vertical-align: middle;\n",
       "    }\n",
       "\n",
       "    .dataframe tbody tr th {\n",
       "        vertical-align: top;\n",
       "    }\n",
       "\n",
       "    .dataframe thead th {\n",
       "        text-align: right;\n",
       "    }\n",
       "</style>\n",
       "<table border=\"1\" class=\"dataframe\">\n",
       "  <thead>\n",
       "    <tr style=\"text-align: right;\">\n",
       "      <th></th>\n",
       "      <th>id</th>\n",
       "      <th>diagnosis</th>\n",
       "      <th>radius_mean</th>\n",
       "      <th>texture_mean</th>\n",
       "      <th>perimeter_mean</th>\n",
       "      <th>area_mean</th>\n",
       "      <th>smoothness_mean</th>\n",
       "      <th>compactness_mean</th>\n",
       "      <th>concavity_mean</th>\n",
       "      <th>concave points_mean</th>\n",
       "      <th>...</th>\n",
       "      <th>texture_worst</th>\n",
       "      <th>perimeter_worst</th>\n",
       "      <th>area_worst</th>\n",
       "      <th>smoothness_worst</th>\n",
       "      <th>compactness_worst</th>\n",
       "      <th>concavity_worst</th>\n",
       "      <th>concave points_worst</th>\n",
       "      <th>symmetry_worst</th>\n",
       "      <th>fractal_dimension_worst</th>\n",
       "      <th>Unnamed: 32</th>\n",
       "    </tr>\n",
       "  </thead>\n",
       "  <tbody>\n",
       "    <tr>\n",
       "      <th>243</th>\n",
       "      <td>88411702</td>\n",
       "      <td>B</td>\n",
       "      <td>13.750</td>\n",
       "      <td>23.77</td>\n",
       "      <td>88.54</td>\n",
       "      <td>590.0</td>\n",
       "      <td>0.08043</td>\n",
       "      <td>0.06807</td>\n",
       "      <td>0.046970</td>\n",
       "      <td>0.023440</td>\n",
       "      <td>...</td>\n",
       "      <td>26.34</td>\n",
       "      <td>98.00</td>\n",
       "      <td>706.0</td>\n",
       "      <td>0.09368</td>\n",
       "      <td>0.14420</td>\n",
       "      <td>0.13590</td>\n",
       "      <td>0.06106</td>\n",
       "      <td>0.2663</td>\n",
       "      <td>0.06321</td>\n",
       "      <td>NaN</td>\n",
       "    </tr>\n",
       "    <tr>\n",
       "      <th>101</th>\n",
       "      <td>862722</td>\n",
       "      <td>B</td>\n",
       "      <td>6.981</td>\n",
       "      <td>13.43</td>\n",
       "      <td>43.79</td>\n",
       "      <td>143.5</td>\n",
       "      <td>0.11700</td>\n",
       "      <td>0.07568</td>\n",
       "      <td>0.000000</td>\n",
       "      <td>0.000000</td>\n",
       "      <td>...</td>\n",
       "      <td>19.54</td>\n",
       "      <td>50.41</td>\n",
       "      <td>185.2</td>\n",
       "      <td>0.15840</td>\n",
       "      <td>0.12020</td>\n",
       "      <td>0.00000</td>\n",
       "      <td>0.00000</td>\n",
       "      <td>0.2932</td>\n",
       "      <td>0.09382</td>\n",
       "      <td>NaN</td>\n",
       "    </tr>\n",
       "    <tr>\n",
       "      <th>230</th>\n",
       "      <td>881972</td>\n",
       "      <td>M</td>\n",
       "      <td>17.050</td>\n",
       "      <td>19.08</td>\n",
       "      <td>113.40</td>\n",
       "      <td>895.0</td>\n",
       "      <td>0.11410</td>\n",
       "      <td>0.15720</td>\n",
       "      <td>0.191000</td>\n",
       "      <td>0.109000</td>\n",
       "      <td>...</td>\n",
       "      <td>24.89</td>\n",
       "      <td>133.50</td>\n",
       "      <td>1189.0</td>\n",
       "      <td>0.17030</td>\n",
       "      <td>0.39340</td>\n",
       "      <td>0.50180</td>\n",
       "      <td>0.25430</td>\n",
       "      <td>0.3109</td>\n",
       "      <td>0.09061</td>\n",
       "      <td>NaN</td>\n",
       "    </tr>\n",
       "    <tr>\n",
       "      <th>269</th>\n",
       "      <td>8910720</td>\n",
       "      <td>B</td>\n",
       "      <td>10.710</td>\n",
       "      <td>20.39</td>\n",
       "      <td>69.50</td>\n",
       "      <td>344.9</td>\n",
       "      <td>0.10820</td>\n",
       "      <td>0.12890</td>\n",
       "      <td>0.084480</td>\n",
       "      <td>0.028670</td>\n",
       "      <td>...</td>\n",
       "      <td>25.21</td>\n",
       "      <td>76.51</td>\n",
       "      <td>410.4</td>\n",
       "      <td>0.13350</td>\n",
       "      <td>0.25500</td>\n",
       "      <td>0.25340</td>\n",
       "      <td>0.08600</td>\n",
       "      <td>0.2605</td>\n",
       "      <td>0.08701</td>\n",
       "      <td>NaN</td>\n",
       "    </tr>\n",
       "    <tr>\n",
       "      <th>522</th>\n",
       "      <td>91789</td>\n",
       "      <td>B</td>\n",
       "      <td>11.260</td>\n",
       "      <td>19.83</td>\n",
       "      <td>71.30</td>\n",
       "      <td>388.1</td>\n",
       "      <td>0.08511</td>\n",
       "      <td>0.04413</td>\n",
       "      <td>0.005067</td>\n",
       "      <td>0.005664</td>\n",
       "      <td>...</td>\n",
       "      <td>26.43</td>\n",
       "      <td>76.38</td>\n",
       "      <td>435.9</td>\n",
       "      <td>0.11080</td>\n",
       "      <td>0.07723</td>\n",
       "      <td>0.02533</td>\n",
       "      <td>0.02832</td>\n",
       "      <td>0.2557</td>\n",
       "      <td>0.07613</td>\n",
       "      <td>NaN</td>\n",
       "    </tr>\n",
       "  </tbody>\n",
       "</table>\n",
       "<p>5 rows × 33 columns</p>\n",
       "</div>"
      ],
      "text/plain": [
       "           id diagnosis  radius_mean  texture_mean  perimeter_mean  area_mean  \\\n",
       "243  88411702         B       13.750         23.77           88.54      590.0   \n",
       "101    862722         B        6.981         13.43           43.79      143.5   \n",
       "230    881972         M       17.050         19.08          113.40      895.0   \n",
       "269   8910720         B       10.710         20.39           69.50      344.9   \n",
       "522     91789         B       11.260         19.83           71.30      388.1   \n",
       "\n",
       "     smoothness_mean  compactness_mean  concavity_mean  concave points_mean  \\\n",
       "243          0.08043           0.06807        0.046970             0.023440   \n",
       "101          0.11700           0.07568        0.000000             0.000000   \n",
       "230          0.11410           0.15720        0.191000             0.109000   \n",
       "269          0.10820           0.12890        0.084480             0.028670   \n",
       "522          0.08511           0.04413        0.005067             0.005664   \n",
       "\n",
       "     ...  texture_worst  perimeter_worst  area_worst  smoothness_worst  \\\n",
       "243  ...          26.34            98.00       706.0           0.09368   \n",
       "101  ...          19.54            50.41       185.2           0.15840   \n",
       "230  ...          24.89           133.50      1189.0           0.17030   \n",
       "269  ...          25.21            76.51       410.4           0.13350   \n",
       "522  ...          26.43            76.38       435.9           0.11080   \n",
       "\n",
       "     compactness_worst  concavity_worst  concave points_worst  symmetry_worst  \\\n",
       "243            0.14420          0.13590               0.06106          0.2663   \n",
       "101            0.12020          0.00000               0.00000          0.2932   \n",
       "230            0.39340          0.50180               0.25430          0.3109   \n",
       "269            0.25500          0.25340               0.08600          0.2605   \n",
       "522            0.07723          0.02533               0.02832          0.2557   \n",
       "\n",
       "     fractal_dimension_worst  Unnamed: 32  \n",
       "243                  0.06321          NaN  \n",
       "101                  0.09382          NaN  \n",
       "230                  0.09061          NaN  \n",
       "269                  0.08701          NaN  \n",
       "522                  0.07613          NaN  \n",
       "\n",
       "[5 rows x 33 columns]"
      ]
     },
     "execution_count": 174,
     "metadata": {},
     "output_type": "execute_result"
    }
   ],
   "source": [
    "data = pd.read_csv('../data/breast_cancer_wisconsin.csv')\n",
    "data.sample(5)"
   ]
  },
  {
   "cell_type": "markdown",
   "id": "0b4b8470",
   "metadata": {},
   "source": [
    "# Preprocessing"
   ]
  },
  {
   "cell_type": "markdown",
   "id": "7574bc2e",
   "metadata": {},
   "source": [
    "### Dropping unnecessary columns and Label Encoding"
   ]
  },
  {
   "cell_type": "code",
   "execution_count": 175,
   "id": "c1ab99ce",
   "metadata": {},
   "outputs": [
    {
     "data": {
      "text/plain": [
       "Index(['id', 'diagnosis', 'radius_mean', 'texture_mean', 'perimeter_mean',\n",
       "       'area_mean', 'smoothness_mean', 'compactness_mean', 'concavity_mean',\n",
       "       'concave points_mean', 'symmetry_mean', 'fractal_dimension_mean',\n",
       "       'radius_se', 'texture_se', 'perimeter_se', 'area_se', 'smoothness_se',\n",
       "       'compactness_se', 'concavity_se', 'concave points_se', 'symmetry_se',\n",
       "       'fractal_dimension_se', 'radius_worst', 'texture_worst',\n",
       "       'perimeter_worst', 'area_worst', 'smoothness_worst',\n",
       "       'compactness_worst', 'concavity_worst', 'concave points_worst',\n",
       "       'symmetry_worst', 'fractal_dimension_worst', 'Unnamed: 32'],\n",
       "      dtype='object')"
      ]
     },
     "execution_count": 175,
     "metadata": {},
     "output_type": "execute_result"
    }
   ],
   "source": [
    "data.columns"
   ]
  },
  {
   "cell_type": "code",
   "execution_count": 176,
   "id": "a81a1514",
   "metadata": {},
   "outputs": [],
   "source": [
    "diagnosis_map = {\n",
    "    'M': 1,\n",
    "    'B': 0,\n",
    "}\n",
    "\n",
    "columns_to_drop = [\n",
    "    'id',\n",
    "    'Unnamed: 32'\n",
    "]\n",
    "\n",
    "data['diagnosis'] = data['diagnosis'].map(diagnosis_map)\n",
    "data = data.drop(columns=columns_to_drop)"
   ]
  },
  {
   "cell_type": "code",
   "execution_count": 177,
   "id": "9c705cda",
   "metadata": {},
   "outputs": [
    {
     "data": {
      "text/html": [
       "<div>\n",
       "<style scoped>\n",
       "    .dataframe tbody tr th:only-of-type {\n",
       "        vertical-align: middle;\n",
       "    }\n",
       "\n",
       "    .dataframe tbody tr th {\n",
       "        vertical-align: top;\n",
       "    }\n",
       "\n",
       "    .dataframe thead th {\n",
       "        text-align: right;\n",
       "    }\n",
       "</style>\n",
       "<table border=\"1\" class=\"dataframe\">\n",
       "  <thead>\n",
       "    <tr style=\"text-align: right;\">\n",
       "      <th></th>\n",
       "      <th>diagnosis</th>\n",
       "      <th>radius_mean</th>\n",
       "      <th>texture_mean</th>\n",
       "      <th>perimeter_mean</th>\n",
       "      <th>area_mean</th>\n",
       "      <th>smoothness_mean</th>\n",
       "      <th>compactness_mean</th>\n",
       "      <th>concavity_mean</th>\n",
       "      <th>concave points_mean</th>\n",
       "      <th>symmetry_mean</th>\n",
       "      <th>...</th>\n",
       "      <th>radius_worst</th>\n",
       "      <th>texture_worst</th>\n",
       "      <th>perimeter_worst</th>\n",
       "      <th>area_worst</th>\n",
       "      <th>smoothness_worst</th>\n",
       "      <th>compactness_worst</th>\n",
       "      <th>concavity_worst</th>\n",
       "      <th>concave points_worst</th>\n",
       "      <th>symmetry_worst</th>\n",
       "      <th>fractal_dimension_worst</th>\n",
       "    </tr>\n",
       "  </thead>\n",
       "  <tbody>\n",
       "    <tr>\n",
       "      <th>482</th>\n",
       "      <td>0</td>\n",
       "      <td>13.47</td>\n",
       "      <td>14.06</td>\n",
       "      <td>87.32</td>\n",
       "      <td>546.3</td>\n",
       "      <td>0.10710</td>\n",
       "      <td>0.11550</td>\n",
       "      <td>0.05786</td>\n",
       "      <td>0.05266</td>\n",
       "      <td>0.1779</td>\n",
       "      <td>...</td>\n",
       "      <td>14.83</td>\n",
       "      <td>18.32</td>\n",
       "      <td>94.94</td>\n",
       "      <td>660.2</td>\n",
       "      <td>0.1393</td>\n",
       "      <td>0.24990</td>\n",
       "      <td>0.1848</td>\n",
       "      <td>0.1335</td>\n",
       "      <td>0.3227</td>\n",
       "      <td>0.09326</td>\n",
       "    </tr>\n",
       "    <tr>\n",
       "      <th>65</th>\n",
       "      <td>1</td>\n",
       "      <td>14.78</td>\n",
       "      <td>23.94</td>\n",
       "      <td>97.40</td>\n",
       "      <td>668.3</td>\n",
       "      <td>0.11720</td>\n",
       "      <td>0.14790</td>\n",
       "      <td>0.12670</td>\n",
       "      <td>0.09029</td>\n",
       "      <td>0.1953</td>\n",
       "      <td>...</td>\n",
       "      <td>17.31</td>\n",
       "      <td>33.39</td>\n",
       "      <td>114.60</td>\n",
       "      <td>925.1</td>\n",
       "      <td>0.1648</td>\n",
       "      <td>0.34160</td>\n",
       "      <td>0.3024</td>\n",
       "      <td>0.1614</td>\n",
       "      <td>0.3321</td>\n",
       "      <td>0.08911</td>\n",
       "    </tr>\n",
       "    <tr>\n",
       "      <th>550</th>\n",
       "      <td>0</td>\n",
       "      <td>10.86</td>\n",
       "      <td>21.48</td>\n",
       "      <td>68.51</td>\n",
       "      <td>360.5</td>\n",
       "      <td>0.07431</td>\n",
       "      <td>0.04227</td>\n",
       "      <td>0.00000</td>\n",
       "      <td>0.00000</td>\n",
       "      <td>0.1661</td>\n",
       "      <td>...</td>\n",
       "      <td>11.66</td>\n",
       "      <td>24.77</td>\n",
       "      <td>74.08</td>\n",
       "      <td>412.3</td>\n",
       "      <td>0.1001</td>\n",
       "      <td>0.07348</td>\n",
       "      <td>0.0000</td>\n",
       "      <td>0.0000</td>\n",
       "      <td>0.2458</td>\n",
       "      <td>0.06592</td>\n",
       "    </tr>\n",
       "    <tr>\n",
       "      <th>481</th>\n",
       "      <td>0</td>\n",
       "      <td>13.90</td>\n",
       "      <td>19.24</td>\n",
       "      <td>88.73</td>\n",
       "      <td>602.9</td>\n",
       "      <td>0.07991</td>\n",
       "      <td>0.05326</td>\n",
       "      <td>0.02995</td>\n",
       "      <td>0.02070</td>\n",
       "      <td>0.1579</td>\n",
       "      <td>...</td>\n",
       "      <td>16.41</td>\n",
       "      <td>26.42</td>\n",
       "      <td>104.40</td>\n",
       "      <td>830.5</td>\n",
       "      <td>0.1064</td>\n",
       "      <td>0.14150</td>\n",
       "      <td>0.1673</td>\n",
       "      <td>0.0815</td>\n",
       "      <td>0.2356</td>\n",
       "      <td>0.07603</td>\n",
       "    </tr>\n",
       "    <tr>\n",
       "      <th>23</th>\n",
       "      <td>1</td>\n",
       "      <td>21.16</td>\n",
       "      <td>23.04</td>\n",
       "      <td>137.20</td>\n",
       "      <td>1404.0</td>\n",
       "      <td>0.09428</td>\n",
       "      <td>0.10220</td>\n",
       "      <td>0.10970</td>\n",
       "      <td>0.08632</td>\n",
       "      <td>0.1769</td>\n",
       "      <td>...</td>\n",
       "      <td>29.17</td>\n",
       "      <td>35.59</td>\n",
       "      <td>188.00</td>\n",
       "      <td>2615.0</td>\n",
       "      <td>0.1401</td>\n",
       "      <td>0.26000</td>\n",
       "      <td>0.3155</td>\n",
       "      <td>0.2009</td>\n",
       "      <td>0.2822</td>\n",
       "      <td>0.07526</td>\n",
       "    </tr>\n",
       "  </tbody>\n",
       "</table>\n",
       "<p>5 rows × 31 columns</p>\n",
       "</div>"
      ],
      "text/plain": [
       "     diagnosis  radius_mean  texture_mean  perimeter_mean  area_mean  \\\n",
       "482          0        13.47         14.06           87.32      546.3   \n",
       "65           1        14.78         23.94           97.40      668.3   \n",
       "550          0        10.86         21.48           68.51      360.5   \n",
       "481          0        13.90         19.24           88.73      602.9   \n",
       "23           1        21.16         23.04          137.20     1404.0   \n",
       "\n",
       "     smoothness_mean  compactness_mean  concavity_mean  concave points_mean  \\\n",
       "482          0.10710           0.11550         0.05786              0.05266   \n",
       "65           0.11720           0.14790         0.12670              0.09029   \n",
       "550          0.07431           0.04227         0.00000              0.00000   \n",
       "481          0.07991           0.05326         0.02995              0.02070   \n",
       "23           0.09428           0.10220         0.10970              0.08632   \n",
       "\n",
       "     symmetry_mean  ...  radius_worst  texture_worst  perimeter_worst  \\\n",
       "482         0.1779  ...         14.83          18.32            94.94   \n",
       "65          0.1953  ...         17.31          33.39           114.60   \n",
       "550         0.1661  ...         11.66          24.77            74.08   \n",
       "481         0.1579  ...         16.41          26.42           104.40   \n",
       "23          0.1769  ...         29.17          35.59           188.00   \n",
       "\n",
       "     area_worst  smoothness_worst  compactness_worst  concavity_worst  \\\n",
       "482       660.2            0.1393            0.24990           0.1848   \n",
       "65        925.1            0.1648            0.34160           0.3024   \n",
       "550       412.3            0.1001            0.07348           0.0000   \n",
       "481       830.5            0.1064            0.14150           0.1673   \n",
       "23       2615.0            0.1401            0.26000           0.3155   \n",
       "\n",
       "     concave points_worst  symmetry_worst  fractal_dimension_worst  \n",
       "482                0.1335          0.3227                  0.09326  \n",
       "65                 0.1614          0.3321                  0.08911  \n",
       "550                0.0000          0.2458                  0.06592  \n",
       "481                0.0815          0.2356                  0.07603  \n",
       "23                 0.2009          0.2822                  0.07526  \n",
       "\n",
       "[5 rows x 31 columns]"
      ]
     },
     "execution_count": 177,
     "metadata": {},
     "output_type": "execute_result"
    }
   ],
   "source": [
    "data.sample(5)"
   ]
  },
  {
   "cell_type": "code",
   "execution_count": 178,
   "id": "7a1c9c06",
   "metadata": {},
   "outputs": [
    {
     "data": {
      "text/plain": [
       "Index(['diagnosis', 'radius_mean', 'texture_mean', 'perimeter_mean',\n",
       "       'area_mean', 'smoothness_mean', 'compactness_mean', 'concavity_mean',\n",
       "       'concave points_mean', 'symmetry_mean', 'fractal_dimension_mean',\n",
       "       'radius_se', 'texture_se', 'perimeter_se', 'area_se', 'smoothness_se',\n",
       "       'compactness_se', 'concavity_se', 'concave points_se', 'symmetry_se',\n",
       "       'fractal_dimension_se', 'radius_worst', 'texture_worst',\n",
       "       'perimeter_worst', 'area_worst', 'smoothness_worst',\n",
       "       'compactness_worst', 'concavity_worst', 'concave points_worst',\n",
       "       'symmetry_worst', 'fractal_dimension_worst'],\n",
       "      dtype='object')"
      ]
     },
     "execution_count": 178,
     "metadata": {},
     "output_type": "execute_result"
    }
   ],
   "source": [
    "data.columns"
   ]
  },
  {
   "cell_type": "markdown",
   "id": "a34ef555",
   "metadata": {},
   "source": [
    "### Train-Test Split"
   ]
  },
  {
   "cell_type": "code",
   "execution_count": 179,
   "id": "9db632c2",
   "metadata": {},
   "outputs": [],
   "source": [
    "X = data.iloc[:,1:].values\n",
    "y = data.iloc[:, 0].values\n",
    "\n",
    "X = standardize(X)\n",
    "\n",
    "\n",
    "X_train, X_test, y_train, y_test = train_test_split(X, y)"
   ]
  },
  {
   "cell_type": "code",
   "execution_count": 180,
   "id": "6b101f36",
   "metadata": {},
   "outputs": [
    {
     "name": "stdout",
     "output_type": "stream",
     "text": [
      "[[-0.19028124 -0.17512557  0.25540933 ... -0.27049284 -0.26973505\n",
      "  -0.27076353]\n",
      " [-0.1895804  -0.18239678  0.26373181 ... -0.27044421 -0.27007145\n",
      "  -0.27077181]\n",
      " [-0.22076778 -0.20718901  0.05299792 ... -0.27077138 -0.26980864\n",
      "  -0.27069476]\n",
      " ...\n",
      " [-0.20850308 -0.19742105  0.12443982 ... -0.27095088 -0.27002021\n",
      "  -0.2708288 ]\n",
      " [-0.20986096 -0.18515634  0.12803162 ... -0.2702966  -0.26970439\n",
      "  -0.27063476]\n",
      " [-0.21774541 -0.18121412  0.06714613 ... -0.27077138 -0.26991683\n",
      "  -0.2707956 ]]\n",
      "[1 1 0 1 1 0 0 0 1 0 1 1 1 1 0 0 1 0 0 1 1 1 1 1 1 0 0 0 0 0 0 0 1 1 1 1 0\n",
      " 0 0 0 1 0 1 0 0 0 0 0 1 1 1 0 0 1 0 0 1 1 1 1 0 0 1 1 0 0 0 1 1 1 0 0 1 0\n",
      " 0 0 0 1 0 0 0 0 0 0 0 0 0 1 0 0 0 0 0 0 1 0 0 1 0 0 1 1 1 0 1 1 0 1 0 0 0\n",
      " 0 1 0]\n"
     ]
    }
   ],
   "source": [
    "print(X_test)\n",
    "\n",
    "print(y_test)"
   ]
  },
  {
   "cell_type": "markdown",
   "id": "28c47798",
   "metadata": {},
   "source": [
    "# Creating and Training the Logistic Regressor"
   ]
  },
  {
   "cell_type": "code",
   "execution_count": 181,
   "id": "4638945a",
   "metadata": {},
   "outputs": [
    {
     "name": "stdout",
     "output_type": "stream",
     "text": [
      "Epoch 1, \t Loss: 0.6931471805599453\n",
      "Epoch 2, \t Loss: 0.6907566843319656\n",
      "Epoch 3, \t Loss: 0.6885373191213187\n",
      "Epoch 4, \t Loss: 0.6864656060676129\n",
      "Epoch 5, \t Loss: 0.6845213193428948\n",
      "Epoch 6, \t Loss: 0.6826870604466704\n",
      "Epoch 7, \t Loss: 0.6809478791857865\n",
      "Epoch 8, \t Loss: 0.6792909392657653\n",
      "Epoch 9, \t Loss: 0.677705225355399\n",
      "Epoch 10, \t Loss: 0.6761812879395226\n",
      "Epoch 11, \t Loss: 0.6747110220860447\n",
      "Epoch 12, \t Loss: 0.6732874763007503\n",
      "Epoch 13, \t Loss: 0.6719046878374605\n",
      "Epoch 14, \t Loss: 0.6705575411081042\n",
      "Epoch 15, \t Loss: 0.6692416461532318\n",
      "Epoch 16, \t Loss: 0.6679532344593851\n",
      "Epoch 17, \t Loss: 0.666689069727128\n",
      "Epoch 18, \t Loss: 0.6654463714915025\n",
      "Epoch 19, \t Loss: 0.6642227497694888\n",
      "Epoch 20, \t Loss: 0.6630161491543599\n",
      "Epoch 21, \t Loss: 0.6618248009944936\n",
      "Epoch 22, \t Loss: 0.6606471824854178\n",
      "Epoch 23, \t Loss: 0.659481981670583\n",
      "Epoch 24, \t Loss: 0.6583280674908166\n",
      "Epoch 25, \t Loss: 0.6571844641470691\n",
      "Epoch 26, \t Loss: 0.6560503291482196\n",
      "Epoch 27, \t Loss: 0.6549249345075916\n",
      "Epoch 28, \t Loss: 0.6538076506304481\n",
      "Epoch 29, \t Loss: 0.6526979325019133\n",
      "Epoch 30, \t Loss: 0.6515953078420897\n",
      "Epoch 31, \t Loss: 0.6504993669440294\n",
      "Epoch 32, \t Loss: 0.6494097539518903\n",
      "Epoch 33, \t Loss: 0.6483261593721116\n",
      "Epoch 34, \t Loss: 0.6472483136407021\n",
      "Epoch 35, \t Loss: 0.6461759815955086\n",
      "Epoch 36, \t Loss: 0.6451089577243089\n",
      "Epoch 37, \t Loss: 0.6440470620782897\n",
      "Epoch 38, \t Loss: 0.6429901367564531\n",
      "Epoch 39, \t Loss: 0.6419380428801045\n",
      "Epoch 40, \t Loss: 0.64089065798821\n",
      "Epoch 41, \t Loss: 0.6398478737943273\n",
      "Epoch 42, \t Loss: 0.638809594254302\n",
      "Epoch 43, \t Loss: 0.6377757339011587\n",
      "Epoch 44, \t Loss: 0.6367462164098162\n",
      "Epoch 45, \t Loss: 0.6357209733595525\n",
      "Epoch 46, \t Loss: 0.6346999431666854\n",
      "Epoch 47, \t Loss: 0.6336830701638163\n",
      "Epoch 48, \t Loss: 0.6326703038053111\n",
      "Epoch 49, \t Loss: 0.6316615979815506\n",
      "Epoch 50, \t Loss: 0.6306569104269238\n",
      "Epoch 51, \t Loss: 0.6296562022086384\n",
      "Epoch 52, \t Loss: 0.628659437285223\n",
      "Epoch 53, \t Loss: 0.6276665821251507\n",
      "Epoch 54, \t Loss: 0.6266776053773274\n",
      "Epoch 55, \t Loss: 0.6256924775863468\n",
      "Epoch 56, \t Loss: 0.6247111709463864\n",
      "Epoch 57, \t Loss: 0.6237336590884683\n",
      "Epoch 58, \t Loss: 0.6227599168965305\n",
      "Epoch 59, \t Loss: 0.6217899203483891\n",
      "Epoch 60, \t Loss: 0.6208236463782\n",
      "Epoch 61, \t Loss: 0.6198610727575012\n",
      "Epoch 62, \t Loss: 0.6189021779923113\n",
      "Epoch 63, \t Loss: 0.6179469412341098\n",
      "Epoch 64, \t Loss: 0.6169953422028137\n",
      "Epoch 65, \t Loss: 0.6160473611201319\n",
      "Epoch 66, \t Loss: 0.6151029786518906\n",
      "Epoch 67, \t Loss: 0.614162175858117\n",
      "Epoch 68, \t Loss: 0.6132249341498369\n",
      "Epoch 69, \t Loss: 0.6122912352516765\n",
      "Epoch 70, \t Loss: 0.611361061169488\n",
      "Epoch 71, \t Loss: 0.6104343941623198\n",
      "Epoch 72, \t Loss: 0.6095112167181499\n",
      "Epoch 73, \t Loss: 0.6085915115328685\n",
      "Epoch 74, \t Loss: 0.6076752614920807\n",
      "Epoch 75, \t Loss: 0.6067624496553428\n",
      "Epoch 76, \t Loss: 0.6058530592425087\n",
      "Epoch 77, \t Loss: 0.6049470736218999\n",
      "Epoch 78, \t Loss: 0.6040444763000571\n",
      "Epoch 79, \t Loss: 0.6031452509128543\n",
      "Epoch 80, \t Loss: 0.6022493812177995\n",
      "Epoch 81, \t Loss: 0.6013568510873544\n",
      "Epoch 82, \t Loss: 0.6004676445031432\n",
      "Epoch 83, \t Loss: 0.5995817455509256\n",
      "Epoch 84, \t Loss: 0.5986991384162296\n",
      "Epoch 85, \t Loss: 0.5978198073805615\n",
      "Epoch 86, \t Loss: 0.5969437368181079\n",
      "Epoch 87, \t Loss: 0.5960709111928671\n",
      "Epoch 88, \t Loss: 0.5952013150561496\n",
      "Epoch 89, \t Loss: 0.5943349330443998\n",
      "Epoch 90, \t Loss: 0.5934717498772912\n",
      "Epoch 91, \t Loss: 0.5926117503560635\n",
      "Epoch 92, \t Loss: 0.5917549193620605\n",
      "Epoch 93, \t Loss: 0.5909012418554499\n",
      "Epoch 94, \t Loss: 0.5900507028740932\n",
      "Epoch 95, \t Loss: 0.5892032875325478\n",
      "Epoch 96, \t Loss: 0.5883589810211828\n",
      "Epoch 97, \t Loss: 0.5875177686053918\n",
      "Epoch 98, \t Loss: 0.5866796356248892\n",
      "Epoch 99, \t Loss: 0.585844567493079\n",
      "Epoch 100, \t Loss: 0.5850125496964844\n"
     ]
    },
    {
     "data": {
      "text/plain": [
       "(array([0.03977258, 0.03466618, 0.01060474, 0.00968782, 0.04544459,\n",
       "        0.04548795, 0.04554164, 0.04552477, 0.04539034, 0.04545912,\n",
       "        0.04548658, 0.04458261, 0.04538124, 0.05898497, 0.04549969,\n",
       "        0.04549611, 0.04549484, 0.04550122, 0.04548975, 0.04550285,\n",
       "        0.040372  , 0.03183223, 0.01461609, 0.14834562, 0.04542666,\n",
       "        0.045492  , 0.04555809, 0.04551762, 0.04534213, 0.04545474]),\n",
       " np.float64(-0.16785589947139803))"
      ]
     },
     "execution_count": 181,
     "metadata": {},
     "output_type": "execute_result"
    }
   ],
   "source": [
    "model = LogisticRegression()\n",
    "\n",
    "model.train(x = X_train, y = y_train, learning_rate=0.01, epochs=100, track_loss=True)"
   ]
  },
  {
   "cell_type": "markdown",
   "id": "6bbee475",
   "metadata": {},
   "source": [
    "# Results"
   ]
  },
  {
   "cell_type": "markdown",
   "id": "c3d7a057",
   "metadata": {},
   "source": [
    "### Accuracy Score"
   ]
  },
  {
   "cell_type": "code",
   "execution_count": 182,
   "id": "aef7d2b1",
   "metadata": {},
   "outputs": [
    {
     "name": "stdout",
     "output_type": "stream",
     "text": [
      "Accuracy Score : 0.9035087719298246\n"
     ]
    }
   ],
   "source": [
    "print(f'Accuracy Score : {accuracy_score(y_test, model.predict(X_test))}')"
   ]
  },
  {
   "cell_type": "markdown",
   "id": "45773e3b",
   "metadata": {},
   "source": [
    "### Confusion Matrix"
   ]
  },
  {
   "cell_type": "code",
   "execution_count": 183,
   "id": "c3b8ba6b",
   "metadata": {},
   "outputs": [
    {
     "data": {
      "image/png": "[encoded data removed]",
      "text/plain": [
       "<Figure size 640x480 with 2 Axes>"
      ]
     },
     "metadata": {},
     "output_type": "display_data"
    }
   ],
   "source": [
    "sns.heatmap(binary_confusion_matrix(y_true=y_test, y_pred=model.predict(X_test)), annot=True)\n",
    "plt.title('Confusion Matrix Heatmap')\n",
    "plt.show()"
   ]
  },
  {
   "cell_type": "markdown",
   "id": "66af7353",
   "metadata": {},
   "source": [
    "### Loss vs Epoch"
   ]
  },
  {
   "cell_type": "code",
   "execution_count": 185,
   "id": "83880dbf",
   "metadata": {},
   "outputs": [
    {
     "data": {
      "text/plain": [
       "[]"
      ]
     },
     "execution_count": 185,
     "metadata": {},
     "output_type": "execute_result"
    },
    {
     "data": {
      "image/png": "[encoded data removed]",
      "text/plain": [
       "<Figure size 640x480 with 1 Axes>"
      ]
     },
     "metadata": {},
     "output_type": "display_data"
    }
   ],
   "source": [
    "losses = list(model.loss_history.values())\n",
    "plt.plot(range(1, len(losses)+1), losses)\n",
    "plt.xlabel(\"Epoch\")\n",
    "plt.ylabel(\"Binary Cross-Entropy Loss\")\n",
    "plt.title(\"Loss Over Epochs\")\n",
    "plt.plot()"
   ]
  }
 ],
 "metadata": {
  "kernelspec": {
   "display_name": "venv",
   "language": "python",
   "name": "python3"
  },
  "language_info": {
   "codemirror_mode": {
    "name": "ipython",
    "version": 3
   },
   "file_extension": ".py",
   "mimetype": "text/x-python",
   "name": "python",
   "nbconvert_exporter": "python",
   "pygments_lexer": "ipython3",
   "version": "3.12.3"
  }
 },
 "nbformat": 4,
 "nbformat_minor": 5
}
